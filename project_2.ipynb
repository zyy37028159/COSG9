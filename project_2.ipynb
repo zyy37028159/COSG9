{
 "cells": [
  {
   "cell_type": "code",
   "execution_count": 1,
   "metadata": {},
   "outputs": [],
   "source": [
    "# import the necessary components for analysis \n",
    "import matplotlib.pyplot as plt\n",
    "import numpy as np\n",
    "import os\n",
    "import pandas as pd\n",
    "import seaborn as sns\n",
    "%matplotlib inline\n",
    "%config InlineBackend.figure_format = 'retina'"
   ]
  },
  {
   "cell_type": "markdown",
   "metadata": {},
   "source": [
    "##   Analysis Proposal\n",
    "In this section, we will introduce our dataset and propose an analysis, which we will explore and attempt, while simultaneously staying mindful of its various limitations."
   ]
  },
  {
   "cell_type": "markdown",
   "metadata": {},
   "source": [
    "### Part I: Data Collection\n",
    "\n",
    "Source: https://urldefense.com/v3/__https://www.kaggle.com/unanimad/grammy-awards*5Cn__;JQ!!Mih3wA!TGo77VvA7iZPR4wtyddojgugT-iDQOGnoq2LgK4ULRRY8JvtVdA423omOTOwhtbl$ \n",
    "The data we obtained from (Kaggle.com) has following attributes:\n",
    "\n",
    "1) Our dataset contains the information about the nominees, the artists (if the nominee is a piece/ work rather than an artists themselves), workers and the producer. \n",
    "\n",
    "2) Our dataset also indicates whether the nominee won the award or not and the type of award they were competing for. \n",
    "\n",
    "3) The original datset contains data spanning more than 60 years, and contains tens of thousands of entries, all of which required some wrangling work on our end since we were looking into gender and did not have gender as a variable in our data. As a result, we decided to hand label the data.\n",
    "\n",
    "Initially our goal was to look at gender discrimmination trends over a longer period of time, but considering the lack of gender labeling, we chose to ask a more realistic question in our implementation: \n",
    "\n",
    "* How do the proportions of male and female nominees differ within the 2019 grammy awards? Does this hint at a discrimmination trend that is more significant?\n",
    "\n",
    "When hand labeling gender, we chose to use a set of 5 categories:\n",
    "\n",
    "**Female**: Individual female nominee\n",
    "\n",
    "**Male**: Individual male nominee\n",
    "\n",
    "**N-female**: Group nominees contains a majority of female performers\n",
    "\n",
    "**N-male**: Group nominees contains a majority of male performers\n",
    "\n",
    "**N/A**: Nominees are not given names/Group nominees contains equal male and female performers.\n",
    "\n",
    "In total, our dataset now contains 433 entries"
   ]
  },
  {
   "cell_type": "code",
   "execution_count": 2,
   "metadata": {},
   "outputs": [],
   "source": [
    "# Create a data frame \n",
    "path=os.path.join(\"data\",\"the_grammy_awards.csv\")\n",
    "grammy_info=pd.read_csv(path)"
   ]
  },
  {
   "cell_type": "code",
   "execution_count": 32,
   "metadata": {},
   "outputs": [
    {
     "data": {
      "text/html": [
       "<div>\n",
       "<style scoped>\n",
       "    .dataframe tbody tr th:only-of-type {\n",
       "        vertical-align: middle;\n",
       "    }\n",
       "\n",
       "    .dataframe tbody tr th {\n",
       "        vertical-align: top;\n",
       "    }\n",
       "\n",
       "    .dataframe thead th {\n",
       "        text-align: right;\n",
       "    }\n",
       "</style>\n",
       "<table border=\"1\" class=\"dataframe\">\n",
       "  <thead>\n",
       "    <tr style=\"text-align: right;\">\n",
       "      <th></th>\n",
       "      <th>nominee</th>\n",
       "      <th>category</th>\n",
       "      <th>artist</th>\n",
       "      <th>workers</th>\n",
       "      <th>winner</th>\n",
       "      <th>Gender</th>\n",
       "      <th>year</th>\n",
       "    </tr>\n",
       "  </thead>\n",
       "  <tbody>\n",
       "    <tr>\n",
       "      <th>0</th>\n",
       "      <td>Bad Guy</td>\n",
       "      <td>Record Of The Year</td>\n",
       "      <td>Billie Eilish</td>\n",
       "      <td>Finneas O'Connell, producer; Rob Kinelski &amp; Fi...</td>\n",
       "      <td>True</td>\n",
       "      <td>Female</td>\n",
       "      <td>2019</td>\n",
       "    </tr>\n",
       "    <tr>\n",
       "      <th>1</th>\n",
       "      <td>Hey, Ma</td>\n",
       "      <td>Record Of The Year</td>\n",
       "      <td>Bon Iver</td>\n",
       "      <td>BJ Burton, Brad Cook, Chris Messina &amp; Justin V...</td>\n",
       "      <td>True</td>\n",
       "      <td>N-Male</td>\n",
       "      <td>2019</td>\n",
       "    </tr>\n",
       "  </tbody>\n",
       "</table>\n",
       "</div>"
      ],
      "text/plain": [
       "   nominee            category         artist  \\\n",
       "0  Bad Guy  Record Of The Year  Billie Eilish   \n",
       "1  Hey, Ma  Record Of The Year       Bon Iver   \n",
       "\n",
       "                                             workers  winner  Gender  year  \n",
       "0  Finneas O'Connell, producer; Rob Kinelski & Fi...    True  Female  2019  \n",
       "1  BJ Burton, Brad Cook, Chris Messina & Justin V...    True  N-Male  2019  "
      ]
     },
     "execution_count": 32,
     "metadata": {},
     "output_type": "execute_result"
    }
   ],
   "source": [
    "grammy_info.head(2)"
   ]
  },
  {
   "cell_type": "markdown",
   "metadata": {},
   "source": [
    "### Part II: Data Wrangling"
   ]
  },
  {
   "cell_type": "markdown",
   "metadata": {},
   "source": [
    "In this section, we will describe our data with following steps : \n",
    "\n",
    "- **STEP1**: What does our data look like? What can we understand from the data's structure?\n",
    "\n",
    "\n",
    "- **STEP2**: What are the limitations that our data may impose on our analysis and our ability to come to statistical conclusions/ generalize? (Data Wrangling: Motivating factors)\n",
    "\n",
    "\n",
    "- **STEP3**: How can we handle those limitation to the best of our knowledge? (Data Wrangling: Our Plan)\n",
    "\n",
    "##### The data we obtained from (Kaggle.com) has following attributes:\n",
    "\n",
    "1) Our dataset contains the information about the nominees, the artists (if the nominee is a piece/ work rather than an artists themselves), workers and the producer. \n",
    "\n",
    "2) Our dataset also indicates whether the nominee won the award or not and the type of award they were competing for. \n",
    "\n",
    "3) The original datset contains the data spanning more than 60 years, and contains tens of thousands of entries, most of which were unusable since we were looking into gender and did not have gender as a variable in our data. As a result, we were forced to hand label the data\n",
    "\n",
    "##### However, the raw data we've obtained is not so perfect and we need to preprocess our data by which we can use in later analysis, and the inperfections and corresponding solutions/limitations are the followings:\n",
    "\n",
    "1) The dataset we have is too large and contains the infomation that is not very relevant to the questions we are asking. Including all years could easily bias our results towards past discrimmination. We only want to check the gender inequality in contemporary world, not the past. Therefore, our slicing methodology should favor significantly smaller data that is far more modern. \n",
    "\n",
    "- We will only take the data from 2019, dropping the columns that are not needed in this analysis so that we can save space and make our dataset look tidy. We will only keep the categories, artists, nominees, workers,and winners columns.\n",
    "\n",
    "2) We also encounter missing values in our data. However, after careful examination of the data we have, we think the missingness could be handled (imputed), and the very nature of this kind of missingness could be recognized as \"Missing by Design\", which could be imputed without biasing our sample. We must recognize that dropping missing values is a very bad way of handling missingness in this case!We impute the missing values so that we can fill the gender column manually, with the following rules: \n",
    "\n",
    "- **If the nominee is a song of performed single person**, then we identify this person's gender by investigating the background of that song. To be more specific, we will google the gender of the artist if we are not very familiar with the piece of work that is nominated. In this instance, given the inconsistency in the gender belonging to the 'artist' or 'nominee' column it seemed best to handle gender labeling by hand, as a model could have easily mistaken a piece of work for a gender. \n",
    "\n",
    "\n",
    "- **If the given music work is performed by a band or ochestra**, we will manually find out the proportions of male and female members of the team. If, let's say, 90 percent of the team members are female, i.e. women are predominant in the team , we will label it as \"N-Female\". Otherwise, we label \"N-Male\". If gender composition of a music team is equal or off by a single member, we will label it as \"N/A\". We will see the proportions and meanings of this choice later within the analysis.\n",
    "\n",
    "\n",
    "3) Our data has \"granularity\". That is, among all the nominees of certain year, the proportion of female may varies throughout different groups. We may face \"Simpson's Paradox\" if the we ignore the granularity of our data and conduct an inferential analysis that is just based on the entire population. Thus, subgroups should also be taken care of.\n",
    "\n",
    "- We compute the proportion of male and female in each subgroup. We will visualize the data to reflect this, ensuring that we have a strong understanding of subgroups as well.\n",
    "\n",
    "4) Another major question which may affect the quality of our assessment is the choice of keeping all nominees or just the  \n",
    "\n",
    "- We chose to keep all nominees of 2019 Grammy Awards because the winner selection proccess concludes in a much smaller sample and by chance may not reflect what actually went into the nominating proccess within a single year. We felt that nominations could give us a stronger picture of whether a potential \"discrimminatory\" effect might have actually taken place.\n",
    "\n",
    "5) Another important decision is whether or not to drop duplicate rows. For example, the song “Bad Guy\" occurs more than once in the dataset, and may be considered extraneous after the first entry. Nevertheless, we chose to maintain duplicate rows, a decision explained directly below:\n",
    "\n",
    "- Duplicate rows have their own unique meaning within the dataset. Duplicate rows do not represent human error here, but rather, but rather means that a piece of work received recognition across multiple categories."
   ]
  },
  {
   "cell_type": "code",
   "execution_count": 19,
   "metadata": {},
   "outputs": [
    {
     "data": {
      "text/html": [
       "<div>\n",
       "<style scoped>\n",
       "    .dataframe tbody tr th:only-of-type {\n",
       "        vertical-align: middle;\n",
       "    }\n",
       "\n",
       "    .dataframe tbody tr th {\n",
       "        vertical-align: top;\n",
       "    }\n",
       "\n",
       "    .dataframe thead th {\n",
       "        text-align: right;\n",
       "    }\n",
       "</style>\n",
       "<table border=\"1\" class=\"dataframe\">\n",
       "  <thead>\n",
       "    <tr style=\"text-align: right;\">\n",
       "      <th></th>\n",
       "      <th>nominee</th>\n",
       "      <th>category</th>\n",
       "      <th>artist</th>\n",
       "      <th>workers</th>\n",
       "      <th>winner</th>\n",
       "      <th>Gender</th>\n",
       "      <th>year</th>\n",
       "    </tr>\n",
       "  </thead>\n",
       "  <tbody>\n",
       "    <tr>\n",
       "      <th>0</th>\n",
       "      <td>Bad Guy</td>\n",
       "      <td>Record Of The Year</td>\n",
       "      <td>Billie Eilish</td>\n",
       "      <td>Finneas O'Connell, producer; Rob Kinelski &amp; Fi...</td>\n",
       "      <td>True</td>\n",
       "      <td>Female</td>\n",
       "      <td>2019</td>\n",
       "    </tr>\n",
       "  </tbody>\n",
       "</table>\n",
       "</div>"
      ],
      "text/plain": [
       "   nominee            category         artist  \\\n",
       "0  Bad Guy  Record Of The Year  Billie Eilish   \n",
       "\n",
       "                                             workers  winner  Gender  year  \n",
       "0  Finneas O'Connell, producer; Rob Kinelski & Fi...    True  Female  2019  "
      ]
     },
     "execution_count": 19,
     "metadata": {},
     "output_type": "execute_result"
    }
   ],
   "source": [
    "# select the columns and select the winners \n",
    "columns_needed=[\"nominee\",\"category\",\"artist\",\"workers\",\"winner\",\"Gender\",\"year\"]\n",
    "grammy_info=grammy_info[columns_needed]\n",
    "grammy_info=grammy_info[grammy_info[\"year\"]==2019]\n",
    "grammy_info.head(1)"
   ]
  },
  {
   "cell_type": "code",
   "execution_count": 20,
   "metadata": {},
   "outputs": [
    {
     "data": {
      "text/plain": [
       "['Male', 'N-Male', 'Equal', 'Female', 'N-Female']"
      ]
     },
     "execution_count": 20,
     "metadata": {},
     "output_type": "execute_result"
    }
   ],
   "source": [
    "# do we have labelling error during manual labelling ? \n",
    "grammy_info[\"Gender\"].value_counts().index.to_list()"
   ]
  },
  {
   "cell_type": "code",
   "execution_count": 21,
   "metadata": {},
   "outputs": [],
   "source": [
    "# Data cleaning. Correct the lebelling error \n",
    "dict_error_correction={\"N-female\":\"N-Female\",\"N-male\":\"N-Male\"} \n",
    "grammy_info[\"Gender\"]=grammy_info[\"Gender\"].replace(dict_error_correction)"
   ]
  },
  {
   "cell_type": "code",
   "execution_count": 22,
   "metadata": {},
   "outputs": [],
   "source": [
    "# Replace N/A with its actual meaning: the proportion of male is roughly equal to the proportion of female \n",
    "grammy_info[\"Gender\"]=grammy_info[\"Gender\"].fillna(\"Equal\")"
   ]
  },
  {
   "cell_type": "code",
   "execution_count": 23,
   "metadata": {},
   "outputs": [
    {
     "data": {
      "text/plain": [
       "['Male', 'N-Male', 'Equal', 'Female', 'N-Female']"
      ]
     },
     "execution_count": 23,
     "metadata": {},
     "output_type": "execute_result"
    }
   ],
   "source": [
    "# No labelling error now !\n",
    "grammy_info[\"Gender\"].value_counts().index.to_list()"
   ]
  },
  {
   "cell_type": "code",
   "execution_count": 15,
   "metadata": {},
   "outputs": [
    {
     "name": "stdout",
     "output_type": "stream",
     "text": [
      "Total nominees: 433\n",
      "Total unique nominees: 388\n"
     ]
    }
   ],
   "source": [
    "# Duplicate nominees\n",
    "print('Total nominees: {}'.format(len(grammy_info.nominee)))\n",
    "print('Total unique nominees: {}'.format(len(grammy_info.nominee.unique())))"
   ]
  },
  {
   "cell_type": "code",
   "execution_count": 50,
   "metadata": {},
   "outputs": [],
   "source": [
    "# Renaming Gender column to match case of other columns\n",
    "grammy_info[\"gender\"] = grammy_info[\"Gender\"]\n",
    "grammy_info = grammy_info.drop(columns = [\"Gender\"])"
   ]
  },
  {
   "cell_type": "markdown",
   "metadata": {},
   "source": [
    "### Part III:  Descriptive & Exploratory Data Analysis"
   ]
  },
  {
   "cell_type": "code",
   "execution_count": 41,
   "metadata": {},
   "outputs": [
    {
     "data": {
      "image/png": "[encoded data removed]",
      "text/plain": [
       "<Figure size 432x288 with 1 Axes>"
      ]
     },
     "metadata": {
      "image/png": {
       "height": 264,
       "width": 388
      },
      "needs_background": "light"
     },
     "output_type": "display_data"
    }
   ],
   "source": [
    "# Visualizing rate of repetition\n",
    "pl = grammy_info['nominee'].value_counts().plot(kind = 'hist').set_xlabel(\"Artist Repetitions\")\n",
    "pl.set_fontsize(\"12\")"
   ]
  },
  {
   "cell_type": "code",
   "execution_count": 51,
   "metadata": {},
   "outputs": [
    {
     "data": {
      "text/html": [
       "<div>\n",
       "<style scoped>\n",
       "    .dataframe tbody tr th:only-of-type {\n",
       "        vertical-align: middle;\n",
       "    }\n",
       "\n",
       "    .dataframe tbody tr th {\n",
       "        vertical-align: top;\n",
       "    }\n",
       "\n",
       "    .dataframe thead th {\n",
       "        text-align: right;\n",
       "    }\n",
       "</style>\n",
       "<table border=\"1\" class=\"dataframe\">\n",
       "  <thead>\n",
       "    <tr style=\"text-align: right;\">\n",
       "      <th></th>\n",
       "      <th>nominee</th>\n",
       "      <th>category</th>\n",
       "      <th>artist</th>\n",
       "      <th>workers</th>\n",
       "      <th>winner</th>\n",
       "      <th>gender</th>\n",
       "    </tr>\n",
       "  </thead>\n",
       "  <tbody>\n",
       "    <tr>\n",
       "      <th>count</th>\n",
       "      <td>433</td>\n",
       "      <td>433</td>\n",
       "      <td>256</td>\n",
       "      <td>208</td>\n",
       "      <td>433</td>\n",
       "      <td>433</td>\n",
       "    </tr>\n",
       "    <tr>\n",
       "      <th>unique</th>\n",
       "      <td>388</td>\n",
       "      <td>84</td>\n",
       "      <td>216</td>\n",
       "      <td>206</td>\n",
       "      <td>1</td>\n",
       "      <td>5</td>\n",
       "    </tr>\n",
       "    <tr>\n",
       "      <th>top</th>\n",
       "      <td>This Land</td>\n",
       "      <td>Record Of The Year</td>\n",
       "      <td>(Various Artists)</td>\n",
       "      <td>Brandi Carlile, Phil Hanseroth, Tim Hanseroth ...</td>\n",
       "      <td>True</td>\n",
       "      <td>Male</td>\n",
       "    </tr>\n",
       "    <tr>\n",
       "      <th>freq</th>\n",
       "      <td>4</td>\n",
       "      <td>8</td>\n",
       "      <td>7</td>\n",
       "      <td>2</td>\n",
       "      <td>433</td>\n",
       "      <td>143</td>\n",
       "    </tr>\n",
       "  </tbody>\n",
       "</table>\n",
       "</div>"
      ],
      "text/plain": [
       "          nominee            category             artist  \\\n",
       "count         433                 433                256   \n",
       "unique        388                  84                216   \n",
       "top     This Land  Record Of The Year  (Various Artists)   \n",
       "freq            4                   8                  7   \n",
       "\n",
       "                                                  workers winner gender  \n",
       "count                                                 208    433    433  \n",
       "unique                                                206      1      5  \n",
       "top     Brandi Carlile, Phil Hanseroth, Tim Hanseroth ...   True   Male  \n",
       "freq                                                    2    433    143  "
      ]
     },
     "execution_count": 51,
     "metadata": {},
     "output_type": "execute_result"
    }
   ],
   "source": [
    "# EDA contains useful info \n",
    "grammy_info[[\"nominee\",\"category\",\"artist\",\"workers\",\"winner\",\"gender\"]].describe()"
   ]
  },
  {
   "cell_type": "code",
   "execution_count": 52,
   "metadata": {},
   "outputs": [
    {
     "data": {
      "text/plain": [
       "Text(0, 0.5, 'Total Count')"
      ]
     },
     "execution_count": 52,
     "metadata": {},
     "output_type": "execute_result"
    },
    {
     "data": {
      "image/png": "[encoded data removed]",
      "text/plain": [
       "<Figure size 432x288 with 1 Axes>"
      ]
     },
     "metadata": {
      "image/png": {
       "height": 315,
       "width": 388
      },
      "needs_background": "light"
     },
     "output_type": "display_data"
    }
   ],
   "source": [
    "# get the gender distribution so that we can visualize it \n",
    "gender_distribution=grammy_info[\"gender\"].value_counts()\n",
    "plot=gender_distribution.plot.bar(title=\"Occuring frequencies versus Genders \")\n",
    "plot.set_xlabel(\"Gender Composition\")\n",
    "plot.set_ylabel(\"Total Count\")"
   ]
  },
  {
   "cell_type": "code",
   "execution_count": 54,
   "metadata": {
    "scrolled": true
   },
   "outputs": [
    {
     "data": {
      "text/plain": [
       "Text(0, 0.5, 'Percentage')"
      ]
     },
     "execution_count": 54,
     "metadata": {},
     "output_type": "execute_result"
    },
    {
     "data": {
      "image/png": "[encoded data removed]",
      "text/plain": [
       "<Figure size 432x288 with 1 Axes>"
      ]
     },
     "metadata": {
      "image/png": {
       "height": 303,
       "width": 480
      },
      "needs_background": "light"
     },
     "output_type": "display_data"
    }
   ],
   "source": [
    "# Get Gender composition for different type of nominees\n",
    "cond = ['Female', 'Male']\n",
    "cond2 = ['N-Female', 'N-Male']\n",
    "idvl_t = grammy_info.loc[grammy_info.gender.isin(cond)].shape[0]\n",
    "idvl_male=grammy_info.loc[grammy_info.gender == 'Male'].shape[0]/idvl_t\n",
    "idvl_female=grammy_info.loc[grammy_info.gender == 'Female'].shape[0]/idvl_t\n",
    "group_t = grammy_info.loc[grammy_info.gender.isin(cond2)].shape[0]\n",
    "group_male=grammy_info.loc[grammy_info.gender == 'N-Male'].shape[0]/group_t\n",
    "group_female=grammy_info.loc[grammy_info.gender == 'N-Female'].shape[0]/group_t\n",
    "\n",
    "df_bar = pd.DataFrame({'Male': [idvl_male, group_male],\n",
    "                      'Female': [idvl_female, group_female]}, index = ['Individual', 'Group'])\n",
    "ax = df_bar.plot.bar(stacked=True, mark_right = True, \n",
    "                     title='Gender Composition Throughout Individual performers and Group performers')\n",
    "ax.set_ylabel(\"Percentage\")"
   ]
  },
  {
   "cell_type": "markdown",
   "metadata": {},
   "source": [
    "We see there are a few more individual male performers than individual female performers. While coming to group performers, there is a much starker difference, with the number of males taking up over 80% of total number of group performers."
   ]
  },
  {
   "cell_type": "code",
   "execution_count": 74,
   "metadata": {},
   "outputs": [
    {
     "data": {
      "text/html": [
       "<div>\n",
       "<style scoped>\n",
       "    .dataframe tbody tr th:only-of-type {\n",
       "        vertical-align: middle;\n",
       "    }\n",
       "\n",
       "    .dataframe tbody tr th {\n",
       "        vertical-align: top;\n",
       "    }\n",
       "\n",
       "    .dataframe thead th {\n",
       "        text-align: right;\n",
       "    }\n",
       "</style>\n",
       "<table border=\"1\" class=\"dataframe\">\n",
       "  <thead>\n",
       "    <tr style=\"text-align: right;\">\n",
       "      <th></th>\n",
       "      <th></th>\n",
       "      <th>nominee_number</th>\n",
       "    </tr>\n",
       "    <tr>\n",
       "      <th>category</th>\n",
       "      <th>gender</th>\n",
       "      <th></th>\n",
       "    </tr>\n",
       "  </thead>\n",
       "  <tbody>\n",
       "    <tr>\n",
       "      <th rowspan=\"4\" valign=\"top\">Album Of The Year</th>\n",
       "      <th>Female</th>\n",
       "      <td>4</td>\n",
       "    </tr>\n",
       "    <tr>\n",
       "      <th>Male</th>\n",
       "      <td>2</td>\n",
       "    </tr>\n",
       "    <tr>\n",
       "      <th>N-Female</th>\n",
       "      <td>1</td>\n",
       "    </tr>\n",
       "    <tr>\n",
       "      <th>N-Male</th>\n",
       "      <td>1</td>\n",
       "    </tr>\n",
       "    <tr>\n",
       "      <th>Best Album Notes</th>\n",
       "      <th>N-Male</th>\n",
       "      <td>5</td>\n",
       "    </tr>\n",
       "    <tr>\n",
       "      <th rowspan=\"3\" valign=\"top\">Best Alternative Music Album</th>\n",
       "      <th>Equal</th>\n",
       "      <td>1</td>\n",
       "    </tr>\n",
       "    <tr>\n",
       "      <th>Male</th>\n",
       "      <td>1</td>\n",
       "    </tr>\n",
       "    <tr>\n",
       "      <th>N-Male</th>\n",
       "      <td>3</td>\n",
       "    </tr>\n",
       "    <tr>\n",
       "      <th rowspan=\"4\" valign=\"top\">Best American Roots Performance</th>\n",
       "      <th>Equal</th>\n",
       "      <td>1</td>\n",
       "    </tr>\n",
       "    <tr>\n",
       "      <th>Female</th>\n",
       "      <td>2</td>\n",
       "    </tr>\n",
       "    <tr>\n",
       "      <th>N-Female</th>\n",
       "      <td>1</td>\n",
       "    </tr>\n",
       "    <tr>\n",
       "      <th>N-Male</th>\n",
       "      <td>1</td>\n",
       "    </tr>\n",
       "    <tr>\n",
       "      <th>Best American Roots Song</th>\n",
       "      <th>Equal</th>\n",
       "      <td>5</td>\n",
       "    </tr>\n",
       "    <tr>\n",
       "      <th rowspan=\"3\" valign=\"top\">Best Americana Album</th>\n",
       "      <th>Female</th>\n",
       "      <td>2</td>\n",
       "    </tr>\n",
       "    <tr>\n",
       "      <th>Male</th>\n",
       "      <td>2</td>\n",
       "    </tr>\n",
       "    <tr>\n",
       "      <th>N-Male</th>\n",
       "      <td>1</td>\n",
       "    </tr>\n",
       "    <tr>\n",
       "      <th rowspan=\"2\" valign=\"top\">Best Arrangement, Instrumental or A Cappella</th>\n",
       "      <th>Equal</th>\n",
       "      <td>4</td>\n",
       "    </tr>\n",
       "    <tr>\n",
       "      <th>N-Male</th>\n",
       "      <td>1</td>\n",
       "    </tr>\n",
       "    <tr>\n",
       "      <th rowspan=\"2\" valign=\"top\">Best Arrangement, Instruments and Vocals</th>\n",
       "      <th>Equal</th>\n",
       "      <td>3</td>\n",
       "    </tr>\n",
       "    <tr>\n",
       "      <th>N-Female</th>\n",
       "      <td>2</td>\n",
       "    </tr>\n",
       "  </tbody>\n",
       "</table>\n",
       "</div>"
      ],
      "text/plain": [
       "                                                       nominee_number\n",
       "category                                     gender                  \n",
       "Album Of The Year                            Female                 4\n",
       "                                             Male                   2\n",
       "                                             N-Female               1\n",
       "                                             N-Male                 1\n",
       "Best Album Notes                             N-Male                 5\n",
       "Best Alternative Music Album                 Equal                  1\n",
       "                                             Male                   1\n",
       "                                             N-Male                 3\n",
       "Best American Roots Performance              Equal                  1\n",
       "                                             Female                 2\n",
       "                                             N-Female               1\n",
       "                                             N-Male                 1\n",
       "Best American Roots Song                     Equal                  5\n",
       "Best Americana Album                         Female                 2\n",
       "                                             Male                   2\n",
       "                                             N-Male                 1\n",
       "Best Arrangement, Instrumental or A Cappella Equal                  4\n",
       "                                             N-Male                 1\n",
       "Best Arrangement, Instruments and Vocals     Equal                  3\n",
       "                                             N-Female               2"
      ]
     },
     "execution_count": 74,
     "metadata": {},
     "output_type": "execute_result"
    }
   ],
   "source": [
    "# Checking gender distribution after a groupby by category\n",
    "counts_per_category = grammy_info.groupby([\"category\", \"gender\"]).count()\n",
    "counts_per_category[\"nominee_number\"] = counts_per_category[\"nominee\"]\n",
    "\n",
    "# Attempting to understand distribution by category \n",
    "nominee_gender_counts = pd.DataFrame(counts_per_category[\"nominee_number\"])\n",
    "nominee_gender_counts.head(20)"
   ]
  },
  {
   "cell_type": "markdown",
   "metadata": {},
   "source": [
    "At first look, it seems that Male and Female distributions vary by category, a factor which might be worth investigating. \n",
    "\n",
    "For instance, best Album Notes was an entirely N-Male category, while Album of the Year featured more Female and N-Female winners than Male and N-Male winners. \n",
    "\n",
    "While this difference could exist entirely due to random chance, it also might be a factor worthy of investigation throughout our analysis.\n"
   ]
  },
  {
   "cell_type": "markdown",
   "metadata": {},
   "source": [
    "Now, it is time to attempt to convey the patterns we have found to an outside audience, in a way that adheres to the principles we're learned in class.\n",
    "\n",
    "Below, we will iterate on a plot design until we select a plot that we believe may truly convey our findings to an outside audience!"
   ]
  },
  {
   "cell_type": "markdown",
   "metadata": {},
   "source": [
    "### Part IV: Extension"
   ]
  },
  {
   "cell_type": "markdown",
   "metadata": {},
   "source": [
    "Our data portrays that within the 2019 Grammy Nominations, there seems to be a relatively large difference between number of males and females nominated. \n",
    "\n",
    "#### However, even with a relatively stark difference shown, in particular among groups, there are a few reasons we cannot generalize our findings:\n",
    "\n",
    "1) We **did not** conduct a Statistical test for legitimate grammy discrimmination, and thus did not obtain a Statistically significant result indicating that Male and Females proportions **did not** differ by chance.\n",
    "\n",
    "\n",
    "2) Even if we had wanted to conduct a Statistical test of this form, we couldn't have done it with the data we had selected. Given that we only selected a single year to sample for proportions, we have practically obtained proportions for a single sample, and would need many more of such samples (many more grammy years) to show that our results did not occur completely due to chance. When trying to prove a large social trend such as discrimmination within the grammys, a single sample may only be enough to form an hypothesis - and certainly not enough to validate it.\n",
    "\n",
    "\n",
    "3) Given the rapid pace of social change, even if we had obtained a larger sample, it would have been a fallacy to use results from 20 years ago to rationalize modern discrimmination. Indicators such as income inequality have certainly improved for women over the past 20 years, though they are far from being equitable. We believe a similar effect could have taken place within the music scene, where the grammys are likely less discrimminatory now then they were 20 or 30 years ago.\n",
    "\n",
    "\n",
    "**We propose a methodology below for how we would extend these results to attempt to understand whether discrimmination is truly taking place:**\n",
    "\n",
    "- We would build a Natural Language Processing Model to Autolabel the data, so that we could use the past 30 years. We would attempt to ensure that this data is racially representative and that the model is not very biased for or against any one group by evaluating it on a large and diverse test set. Although this 30 year sample might distort the level of current discrimmination, it does allow us a larger sample which could be used to draw more accurate conclusions\n",
    "\n",
    "\n",
    "- We could use this to build a Statistical test that we would attempt to generalize to the grammys as a whole, with our null hypothesis being that any gender discrimmination occurs completely due to chance. Without p-hacking, we would attempt to reject this null hypothesis \n",
    "\n",
    "\n",
    "- We would build a plot, likely a bar plot, portraying how the proportions of Female artist and N-Female groups change by year to aid our conclusion and communicate them to a broader audience\n",
    "\n",
    "\n",
    "\n",
    "Although the Natural Language Processing Model might lead to certain inaccuracies, and would raise major ethical concerns (for instance achieving poor performance on certain races due to a lack of available training data), we believe it is the optimal way to obtain enough labeled data to truly test our hypothesis. It would also unlock a relatively medium sized dataset of labeled data, which could unlock exciting Supervised Learning possibilities. Ultimately, we believe that - for a group with ample time - exploring the data with a study of this design could potentially lead to strong results reflecting gender discrimmination within the grammies."
   ]
  },
  {
   "cell_type": "markdown",
   "metadata": {},
   "source": [
    "## Thank you!"
   ]
  }
 ],
 "metadata": {
  "kernelspec": {
   "display_name": "Python 3",
   "language": "python",
   "name": "python3"
  },
  "language_info": {
   "codemirror_mode": {
    "name": "ipython",
    "version": 3
   },
   "file_extension": ".py",
   "mimetype": "text/x-python",
   "name": "python",
   "nbconvert_exporter": "python",
   "pygments_lexer": "ipython3",
   "version": "3.7.4"
  }
 },
 "nbformat": 4,
 "nbformat_minor": 4
}
